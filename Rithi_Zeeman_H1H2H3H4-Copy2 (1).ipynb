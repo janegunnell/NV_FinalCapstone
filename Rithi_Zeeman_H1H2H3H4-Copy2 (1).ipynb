{
 "cells": [
  {
   "cell_type": "code",
   "execution_count": 1,
   "id": "90356ed2",
   "metadata": {},
   "outputs": [],
   "source": [
    "import matplotlib.pyplot as plt\n",
    "import time\n",
    "import numpy as np\n",
    "from numpy import pi\n",
    "\n",
    "from qutip import *\n",
    "from qutip.control import *\n",
    "from qutip.qip.operations import rx\n",
    "from qutip.qip.operations import ry\n",
    "from qutip.qip.operations import rz\n",
    "\n",
    "from qutip.control.grape import plot_grape_control_fields, _overlap\n",
    "from qutip.control.cy_grape import cy_overlap\n",
    "from qutip.control.grape import cy_grape_unitary, grape_unitary_adaptive\n",
    "\n",
    "from scipy.interpolate import interp1d\n",
    "from qutip.ui.progressbar import TextProgressBar\n",
    "from dataclasses import dataclass\n",
    "from typing import List, Tuple, Sequence\n",
    "\n",
    "import matplotlib.pyplot as plt\n",
    "import numpy as np\n",
    "import plotly.graph_objs as go\n",
    "import plotly.express as px\n",
    "\n",
    "from scipy.constants import physical_constants, h\n",
    "\n",
    "from qutip.operators import jmat, tensor, identity, Qobj\n",
    "\n",
    "from scipy.interpolate import interp1d\n",
    "from qutip.ui.progressbar import TextProgressBar\n",
    "from qiskit.visualization import plot_state_city\n",
    "from qiskit.visualization import plot_bloch_multivector"
   ]
  },
  {
   "cell_type": "markdown",
   "id": "ae42d903",
   "metadata": {},
   "source": [
    "For this notebook we are considering a single NV center with an applied magnetic field.  The parallel component of the field $B_{\\parallel}$ is along the z-axis and the perpendicular component of the field $\\vec{B_{perp}}$ is a circularly polarized microwave field with phase $\\phi$, frequency $\\omega_{mw}$, and amplitude $B_{\\perp}(t)$"
   ]
  },
  {
   "cell_type": "markdown",
   "id": "46c6aca5",
   "metadata": {},
   "source": [
    "The Zeeman splitting term of the Hamiltonian is $H_{Zeeman} = \\gamma_{nv} \\vec{B} \\cdot \\vec{s}$ and after\n",
    " rotating into the microwave frequency, you get the following Hamiltonian, which is the drift Hamiltonian.  \n",
    "\n",
    "$H_{RWA} = \\Delta \\hat{s}_{z} + \\Omega (cos(\\phi)\\hat{s}_{x} + sin(\\phi)\\hat{s}_{y})$\n",
    "\n",
    "The constants here are: $\\Delta = \\omega_{nv} - \\omega_{mw}$ is the detuning, \n",
    "\n",
    "$\\omega_{nv} = B_{\\parallel}\\gamma_{nv}$ is the NV resonant frequency,\n",
    "\n",
    "$\\Omega(t) = B_{\\perp}\\gamma_{nv}$ is the Rabi frequency,\n",
    "\n",
    "and $\\vec{s}$ are the Pauli operators for spin-1/2 "
   ]
  },
  {
   "cell_type": "code",
   "execution_count": 2,
   "id": "43c488ba",
   "metadata": {},
   "outputs": [],
   "source": [
    "#defining constants in hamiltonian\n",
    "h= 6.582119 * 1e-16 #eV * sec \n",
    "Bperpendicular = 10 #mT\n",
    "Bparallel = 10 #mT\n",
    "gammanv = 2*np.pi*28 * 1000000 #Hz/mT\n",
    "omeganv = Bparallel * gammanv\n",
    "omegamw = 1000000000 #Hz\n",
    "Delta = omeganv - omegamw\n",
    "#Delta\n",
    "Omega = Bperpendicular * gammanv\n",
    "Omega\n",
    "\n",
    "#constants\n",
    "\n",
    "f_fine_structure = 2.87e9\n",
    "f_nuclear_quadrupole = -5.01e6\n",
    "f_axial_magnetic_hyperfine = -2.14e6\n",
    "f_transverse_magnetic_hyperfine = -2.7e6\n",
    "g_factor_electron = 2.0028\n",
    "gyromagnetic_constant_nuclear = 1.93297e7 / (2 * np.pi)\n",
    "uB = physical_constants['Bohr magneton'][0]\n",
    "uN = physical_constants['nuclear magneton'][0]    \n"
   ]
  },
  {
   "cell_type": "markdown",
   "id": "6f843b85",
   "metadata": {},
   "source": [
    "We are going to work in frequency units, additionally we are going to divide all of the necessary constants by a factor of 1e9"
   ]
  },
  {
   "cell_type": "code",
   "execution_count": 3,
   "id": "6c581061",
   "metadata": {},
   "outputs": [
    {
     "data": {
      "text/latex": [
       "Quantum object: dims = [[2], [2]], shape = (2, 2), type = oper, isherm = True $ \\\\ \\left(\\begin{matrix}8.0 & (18.0-18.0j)\\\\(18.0+18.0j) & -8.0\\\\\\end{matrix}\\right)$"
      ],
      "text/plain": [
       "Quantum object: dims = [[2], [2]], shape = (2, 2), type = oper, isherm = True\n",
       "Qobj data =\n",
       "[[ 8. +0.j 18.-18.j]\n",
       " [18.+18.j -8. +0.j]]"
      ]
     },
     "execution_count": 3,
     "metadata": {},
     "output_type": "execute_result"
    }
   ],
   "source": [
    "#HB is the Zeeman term of the Hamiltonian,\n",
    "#here is also where I divide Delta and Omega by a factor of a billion\n",
    "#and round up to give it these values\n",
    "\n",
    "h=1\n",
    "Delta = 8\n",
    "Omega = 18\n",
    "HB= h*Delta*sigmaz() + h*Omega*sigmax() + h*Omega*sigmay() \n",
    "HB\n"
   ]
  },
  {
   "cell_type": "code",
   "execution_count": 4,
   "id": "9f0d1e67",
   "metadata": {},
   "outputs": [],
   "source": [
    "#Defining some terms so the hamiltonian is more clear\n",
    "#Nuc terms are second qubit, spin=1\n",
    "#Elec qubit is first qubit, spin=1\n",
    "\n",
    "nuclear_spin = 1\n",
    "electron_spin = 1\n",
    "identity3 = identity(3)\n",
    "\n",
    "sigmaxE = jmat(electron_spin,'x')\n",
    "sigmayE = jmat(electron_spin,'y')\n",
    "sigmazE = jmat(electron_spin,'z')\n",
    "sigmaxN = jmat(nuclear_spin,'x')\n",
    "sigmayN = jmat(nuclear_spin,'y')\n",
    "sigmazN = jmat(nuclear_spin,'z')\n",
    "sigmazEsquared = sigmazE*sigmazE\n",
    "sigmazNsquared = sigmazN*sigmazN\n",
    "\n"
   ]
  },
  {
   "cell_type": "markdown",
   "id": "7bf36ffc",
   "metadata": {},
   "source": [
    "After RWA, the Hamiltonian for the Zeeman term is a qubit, however the rest of the NV center is modelled as a qutrit.  We need to write this Hamiltonian as a qutrit for dimensions to match.\n",
    "\n",
    "To do this, we take our desired 2x2 matrix and put it into the top left corner of a 3x3 matrix full of 0's"
   ]
  },
  {
   "cell_type": "code",
   "execution_count": 5,
   "id": "2ddca87e",
   "metadata": {},
   "outputs": [],
   "source": [
    "#writing out the Pauli x and y operators in a 3x3 matrix\n",
    "SigmaZeemanx = Qobj([[0,1,0],[1,0,0],[0,0,0]])\n",
    "SigmaZeemany = Qobj([[0,+1.j,0],[-1.j,0,0],[0,0,0]])\n",
    "\n",
    "#since qubit one is the electric spin and qubit 2 is the nuclear spin, the operator needs to be the tensor product\n",
    "#of the Pauli matrix of the electron and identity, that is done below\n",
    "#these are the operators that can be tuned in the Hamiltonian via the control field\n",
    "H_opsSigZeex = tensor(SigmaZeemanx,identity(3))\n",
    "H_opsSigZeey = tensor(SigmaZeemany,identity(3))\n",
    "\n",
    "#when you tensor things together in QuTIP in kepps the dimensions of the original object\n",
    "#so changing the dims just tells it we can actually use this as a 9x1 and not 2 3x3s.\n",
    "H_opsSigZeex.dims = [[9],[9]]\n",
    "H_opsSigZeey.dims = [[9],[9]]\n",
    "\n",
    "#making H_ops list           \n",
    "H_ops = [Omega*H_opsSigZeex, Omega*H_opsSigZeey]\n",
    "\n",
    "#Labels for the graph\n",
    "H_labels = [r'$u_{x}$',\n",
    "            r'$u_{y}$']\n"
   ]
  },
  {
   "cell_type": "code",
   "execution_count": 6,
   "id": "6791fa6c",
   "metadata": {},
   "outputs": [
    {
     "name": "stdout",
     "output_type": "stream",
     "text": [
      "Quantum object: dims = [[3], [3]], shape = (3, 3), type = oper, isherm = False\n",
      "Qobj data =\n",
      "[[6.123234e-17+0.j 0.000000e+00-1.j 0.000000e+00+0.j]\n",
      " [0.000000e+00-1.j 6.123234e-17+0.j 0.000000e+00+0.j]\n",
      " [0.000000e+00+0.j 0.000000e+00+0.j 0.000000e+00+0.j]]\n",
      "Quantum object: dims = [[9], [9]], shape = (9, 9), type = oper, isherm = False\n",
      "Qobj data =\n",
      "[[0.+0.j 0.+0.j 0.+0.j 0.-1.j 0.+0.j 0.+0.j 0.+0.j 0.+0.j 0.+0.j]\n",
      " [0.+0.j 0.+0.j 0.+0.j 0.+0.j 0.-1.j 0.+0.j 0.+0.j 0.+0.j 0.+0.j]\n",
      " [0.+0.j 0.+0.j 0.+0.j 0.+0.j 0.+0.j 0.-1.j 0.+0.j 0.+0.j 0.+0.j]\n",
      " [0.-1.j 0.+0.j 0.+0.j 0.+0.j 0.+0.j 0.+0.j 0.+0.j 0.+0.j 0.+0.j]\n",
      " [0.+0.j 0.-1.j 0.+0.j 0.+0.j 0.+0.j 0.+0.j 0.+0.j 0.+0.j 0.+0.j]\n",
      " [0.+0.j 0.+0.j 0.-1.j 0.+0.j 0.+0.j 0.+0.j 0.+0.j 0.+0.j 0.+0.j]\n",
      " [0.+0.j 0.+0.j 0.+0.j 0.+0.j 0.+0.j 0.+0.j 0.+0.j 0.+0.j 0.+0.j]\n",
      " [0.+0.j 0.+0.j 0.+0.j 0.+0.j 0.+0.j 0.+0.j 0.+0.j 0.+0.j 0.+0.j]\n",
      " [0.+0.j 0.+0.j 0.+0.j 0.+0.j 0.+0.j 0.+0.j 0.+0.j 0.+0.j 0.+0.j]]\n"
     ]
    }
   ],
   "source": [
    "#manually writing a 2x2 x rotation into a 3x3 matrix and tensor producting with a 3x3 identity\n",
    "\n",
    "phi = np.pi\n",
    "rx = Qobj([\n",
    "    [np.cos(phi/2) ,-1.j * np.sin(phi/2),0],\n",
    "    [-1.j *np.sin(phi/2) ,np.cos(phi/2),0],\n",
    "    [0,0,0]])\n",
    "\n",
    "print(rx)\n",
    "U=tensor(rx,identity(3))\n",
    "U.dims=[[9],[9]]\n",
    "print(U)"
   ]
  },
  {
   "cell_type": "markdown",
   "id": "587c4893",
   "metadata": {},
   "source": [
    "# Defining hamiltonian and constants "
   ]
  },
  {
   "cell_type": "code",
   "execution_count": 7,
   "id": "43f769bc",
   "metadata": {},
   "outputs": [
    {
     "name": "stdout",
     "output_type": "stream",
     "text": [
      "Quantum object: dims = [[3, 3], [3, 3]], shape = (9, 9), type = oper, isherm = True\n",
      "Qobj data =\n",
      "[[ 8. +0.j  0. +0.j  0. +0.j 18.-18.j  0. +0.j  0. +0.j  0. +0.j  0. +0.j\n",
      "   0. +0.j]\n",
      " [ 0. +0.j  8. +0.j  0. +0.j  0. +0.j 18.-18.j  0. +0.j  0. +0.j  0. +0.j\n",
      "   0. +0.j]\n",
      " [ 0. +0.j  0. +0.j  8. +0.j  0. +0.j  0. +0.j 18.-18.j  0. +0.j  0. +0.j\n",
      "   0. +0.j]\n",
      " [18.+18.j  0. +0.j  0. +0.j -8. +0.j  0. +0.j  0. +0.j  0. +0.j  0. +0.j\n",
      "   0. +0.j]\n",
      " [ 0. +0.j 18.+18.j  0. +0.j  0. +0.j -8. +0.j  0. +0.j  0. +0.j  0. +0.j\n",
      "   0. +0.j]\n",
      " [ 0. +0.j  0. +0.j 18.+18.j  0. +0.j  0. +0.j -8. +0.j  0. +0.j  0. +0.j\n",
      "   0. +0.j]\n",
      " [ 0. +0.j  0. +0.j  0. +0.j  0. +0.j  0. +0.j  0. +0.j  0. +0.j  0. +0.j\n",
      "   0. +0.j]\n",
      " [ 0. +0.j  0. +0.j  0. +0.j  0. +0.j  0. +0.j  0. +0.j  0. +0.j  0. +0.j\n",
      "   0. +0.j]\n",
      " [ 0. +0.j  0. +0.j  0. +0.j  0. +0.j  0. +0.j  0. +0.j  0. +0.j  0. +0.j\n",
      "   0. +0.j]]\n",
      "Quantum object: dims = [[9], [9]], shape = (9, 9), type = oper, isherm = True\n",
      "Qobj data =\n",
      "[[-1.669991e+06 +0.j  0.000000e+00 +0.j  0.000000e+00 +0.j\n",
      "   1.800000e+01-18.j  0.000000e+00 +0.j  0.000000e+00 +0.j\n",
      "   0.000000e+00 +0.j  0.000000e+00 +0.j  0.000000e+00 +0.j]\n",
      " [ 0.000000e+00 +0.j  3.340009e+06 +0.j  0.000000e+00 +0.j\n",
      "  -3.000000e-03 +0.j  1.800000e+01-18.j  0.000000e+00 +0.j\n",
      "   0.000000e+00 +0.j  0.000000e+00 +0.j  0.000000e+00 +0.j]\n",
      " [ 0.000000e+00 +0.j  0.000000e+00 +0.j -1.669991e+06 +0.j\n",
      "   0.000000e+00 +0.j -3.000000e-03 +0.j  1.800000e+01-18.j\n",
      "   0.000000e+00 +0.j  0.000000e+00 +0.j  0.000000e+00 +0.j]\n",
      " [ 1.800000e+01+18.j -3.000000e-03 +0.j  0.000000e+00 +0.j\n",
      "  -1.670010e+06 +0.j  0.000000e+00 +0.j  0.000000e+00 +0.j\n",
      "   0.000000e+00 +0.j  0.000000e+00 +0.j  0.000000e+00 +0.j]\n",
      " [ 0.000000e+00 +0.j  1.800000e+01+18.j -3.000000e-03 +0.j\n",
      "   0.000000e+00 +0.j  3.339990e+06 +0.j  0.000000e+00 +0.j\n",
      "  -3.000000e-03 +0.j  0.000000e+00 +0.j  0.000000e+00 +0.j]\n",
      " [ 0.000000e+00 +0.j  0.000000e+00 +0.j  1.800000e+01+18.j\n",
      "   0.000000e+00 +0.j  0.000000e+00 +0.j -1.670010e+06 +0.j\n",
      "   0.000000e+00 +0.j -3.000000e-03 +0.j  0.000000e+00 +0.j]\n",
      " [ 0.000000e+00 +0.j  0.000000e+00 +0.j  0.000000e+00 +0.j\n",
      "   0.000000e+00 +0.j -3.000000e-03 +0.j  0.000000e+00 +0.j\n",
      "  -1.669999e+06 +0.j  0.000000e+00 +0.j  0.000000e+00 +0.j]\n",
      " [ 0.000000e+00 +0.j  0.000000e+00 +0.j  0.000000e+00 +0.j\n",
      "   0.000000e+00 +0.j  0.000000e+00 +0.j -3.000000e-03 +0.j\n",
      "   0.000000e+00 +0.j  3.340001e+06 +0.j  0.000000e+00 +0.j]\n",
      " [ 0.000000e+00 +0.j  0.000000e+00 +0.j  0.000000e+00 +0.j\n",
      "   0.000000e+00 +0.j  0.000000e+00 +0.j  0.000000e+00 +0.j\n",
      "   0.000000e+00 +0.j  0.000000e+00 +0.j -1.669999e+06 +0.j]]\n"
     ]
    }
   ],
   "source": [
    "#Here I redefine the constants in terms 1-4 of the Hamiltian, they're also just divided by a billion\n",
    "f_transverse_magnetic_hyperfine = -0.003\n",
    "f_nuclear_quardupole=0.005\n",
    "f_axial_magnetic_hyperfine = -0.002\n",
    "f_fine_structure = 3\n",
    "\n",
    "\n",
    "#writing the Zeeman term of the Hamiltonian in terms of a 3x3 \n",
    "HZ = [[8.0+0.j,18.0-18.j,0],[18.0+18.j,-8.0,0],[0,0,0]]\n",
    "HZ =tensor(Qobj(HZ),identity(3))\n",
    "print(HZ)\n",
    "\n",
    "\n",
    "\n",
    "H1 = f_fine_structure * tensor((sigmazEsquared-(2/3)*identity3),identity3)\n",
    "\n",
    "H2 = f_axial_magnetic_hyperfine * tensor(sigmazE,sigmazN) \n",
    "\n",
    "H3 = f_transverse_magnetic_hyperfine * (tensor(sigmaxE,sigmaxN)+tensor(sigmayE,sigmayN))\n",
    "\n",
    "H4 = f_nuclear_quadrupole * tensor(tensor(identity3), (sigmazNsquared-(2/3)*identity3))\n",
    "   \n",
    "H0= HZ + H1 + H2 + H3 + H4\n",
    "H0.dims=[[9],[9]] #changing dimensions again\n",
    "print(H0) \n",
    "\n"
   ]
  },
  {
   "cell_type": "markdown",
   "id": "05144d08",
   "metadata": {},
   "source": [
    "# Plot pulses"
   ]
  },
  {
   "cell_type": "code",
   "execution_count": 8,
   "id": "8342fb7d",
   "metadata": {},
   "outputs": [
    {
     "name": "stdout",
     "output_type": "stream",
     "text": [
      "10.0%. Run time: 137.43s. Est. time left: 00:00:20:36\n",
      "20.0%. Run time: 275.05s. Est. time left: 00:00:18:20\n",
      "30.0%. Run time: 402.99s. Est. time left: 00:00:15:40\n",
      "40.0%. Run time: 532.34s. Est. time left: 00:00:13:18\n",
      "50.0%. Run time: 674.63s. Est. time left: 00:00:11:14\n",
      "60.0%. Run time: 803.72s. Est. time left: 00:00:08:55\n",
      "70.0%. Run time: 933.94s. Est. time left: 00:00:06:40\n",
      "80.0%. Run time: 1067.89s. Est. time left: 00:00:04:26\n",
      "90.0%. Run time: 1215.99s. Est. time left: 00:00:02:15\n",
      "Total run time: 1350.06s\n"
     ]
    }
   ],
   "source": [
    "#doing GRAPE!\n",
    "R = 500 #GRAPE iterations, 150 is a good number to test that it is doing what you want it to, 500 gives you decent fidelity\n",
    "#T here is 1/Omega,  I just manually put the 18 in here in case it didn't like having a variable there?? \n",
    "T = 1/18\n",
    "times = np.linspace(0, T, 1000)\n",
    "\n",
    "u0 = np.array([np.random.rand(len(times)) * 2 * pi * 0.005 for _ in range(len(H_ops))])\n",
    "u0 = [np.convolve(np.ones(10) / 10, u0[idx, :], mode='same') for idx in range(len(H_ops))]\n",
    "\n",
    "result = cy_grape_unitary(U, H0, H_ops, R, times,u_start = u0 ,eps=2 * pi / T, phase_sensitive=False,\n",
    "                          progress_bar=TextProgressBar())\n",
    "\n"
   ]
  },
  {
   "cell_type": "code",
   "execution_count": 9,
   "id": "97f31e2a",
   "metadata": {},
   "outputs": [
    {
     "data": {
      "image/png": "[encoded data removed]",
      "text/plain": [
       "<Figure size 800x400 with 2 Axes>"
      ]
     },
     "metadata": {},
     "output_type": "display_data"
    }
   ],
   "source": [
    "plot_grape_control_fields(times, result.u[:, :, :] / (2 * pi), H_labels, uniform_axes=True);\n",
    "plt.show()"
   ]
  },
  {
   "cell_type": "markdown",
   "id": "6e786cb8",
   "metadata": {},
   "source": [
    "# Calcuate fidelity"
   ]
  },
  {
   "cell_type": "code",
   "execution_count": 10,
   "id": "1e5650f7",
   "metadata": {},
   "outputs": [
    {
     "data": {
      "text/latex": [
       "Quantum object: dims = [[9], [1]], shape = (9, 1), type = ket $ \\\\ \\left(\\begin{matrix}1.0\\\\0.0\\\\0.0\\\\0.0\\\\0.0\\\\0.0\\\\0.0\\\\0.0\\\\0.0\\\\\\end{matrix}\\right)$"
      ],
      "text/plain": [
       "Quantum object: dims = [[9], [1]], shape = (9, 1), type = ket\n",
       "Qobj data =\n",
       "[[1.]\n",
       " [0.]\n",
       " [0.]\n",
       " [0.]\n",
       " [0.]\n",
       " [0.]\n",
       " [0.]\n",
       " [0.]\n",
       " [0.]]"
      ]
     },
     "execution_count": 10,
     "metadata": {},
     "output_type": "execute_result"
    }
   ],
   "source": [
    "# defining starting state, electron in (1,0) but written in the qutrit basis as (1,0,0), and nuclear spin as (1,0,0)\n",
    "\n",
    "qubit1state=basis(3, 0)\n",
    "qubit2state=basis(3, 0)\n",
    "startingstate=tensor(qubit1state,qubit1state) #initial state\n",
    "startingstate.dims=[[9],[1]] #once again, changing dimensions\n",
    "startingstate"
   ]
  },
  {
   "cell_type": "code",
   "execution_count": 11,
   "id": "45f4ba5b",
   "metadata": {},
   "outputs": [
    {
     "name": "stdout",
     "output_type": "stream",
     "text": [
      "Quantum object: dims = [[9], [1]], shape = (9, 1), type = ket\n",
      "Qobj data =\n",
      "[[0.+0.j]\n",
      " [0.+0.j]\n",
      " [0.+0.j]\n",
      " [0.-1.j]\n",
      " [0.+0.j]\n",
      " [0.+0.j]\n",
      " [0.+0.j]\n",
      " [0.+0.j]\n",
      " [0.+0.j]]\n"
     ]
    }
   ],
   "source": [
    "idealfinalstate=U*startingstate\n",
    "print (idealfinalstate)"
   ]
  },
  {
   "cell_type": "code",
   "execution_count": 12,
   "id": "d83fcdfd",
   "metadata": {},
   "outputs": [
    {
     "data": {
      "text/latex": [
       "Quantum object: dims = [[9], [9]], shape = (9, 9), type = oper, isherm = False $ \\\\ \\left(\\begin{matrix}0.0 & 0.0 & 0.0 & (0.287-0.958j) & 0.0 & 0.0 & 0.0 & 0.0 & 0.0\\\\0.0 & 0.0 & 0.0 & 0.0 & (-0.479-0.878j) & 0.0 & 0.0 & 0.0 & 0.0\\\\0.0 & 0.0 & 0.0 & 0.0 & 0.0 & (0.287-0.958j) & 0.0 & 0.0 & 0.0\\\\(0.287-0.958j) & 0.0 & 0.0 & 0.0 & 0.0 & 0.0 & 0.0 & 0.0 & 0.0\\\\0.0 & (-0.479-0.878j) & 0.0 & 0.0 & 0.0 & 0.0 & 0.0 & 0.0 & 0.0\\\\0.0 & 0.0 & (0.287-0.958j) & 0.0 & 0.0 & 0.0 & 0.0 & 0.0 & 0.0\\\\0.0 & 0.0 & 0.0 & 0.0 & 0.0 & 0.0 & (0.978+0.206j) & 0.0 & 0.0\\\\0.0 & 0.0 & 0.0 & 0.0 & 0.0 & 0.0 & 0.0 & (0.835-0.550j) & 0.0\\\\0.0 & 0.0 & 0.0 & 0.0 & 0.0 & 0.0 & 0.0 & 0.0 & (0.978+0.207j)\\\\\\end{matrix}\\right)$"
      ],
      "text/plain": [
       "Quantum object: dims = [[9], [9]], shape = (9, 9), type = oper, isherm = False\n",
       "Qobj data =\n",
       "[[ 0.        +0.j          0.        +0.j          0.        +0.j\n",
       "   0.28725478-0.95785421j  0.        +0.j          0.        +0.j\n",
       "   0.        +0.j          0.        +0.j          0.        +0.j        ]\n",
       " [ 0.        +0.j          0.        +0.j          0.        +0.j\n",
       "   0.        +0.j         -0.47879896-0.87792458j  0.        +0.j\n",
       "   0.        +0.j          0.        +0.j          0.        +0.j        ]\n",
       " [ 0.        +0.j          0.        +0.j          0.        +0.j\n",
       "   0.        +0.j          0.        +0.j          0.28715928-0.95788285j\n",
       "   0.        +0.j          0.        +0.j          0.        +0.j        ]\n",
       " [ 0.28726571-0.95785093j  0.        +0.j          0.        +0.j\n",
       "   0.        +0.j          0.        +0.j          0.        +0.j\n",
       "   0.        +0.j          0.        +0.j          0.        +0.j        ]\n",
       " [ 0.        +0.j         -0.47879895-0.87792458j  0.        +0.j\n",
       "   0.        +0.j          0.        +0.j          0.        +0.j\n",
       "   0.        +0.j          0.        +0.j          0.        +0.j        ]\n",
       " [ 0.        +0.j          0.        +0.j          0.28714835-0.95788612j\n",
       "   0.        +0.j          0.        +0.j          0.        +0.j\n",
       "   0.        +0.j          0.        +0.j          0.        +0.j        ]\n",
       " [ 0.        +0.j          0.        +0.j          0.        +0.j\n",
       "   0.        +0.j          0.        +0.j          0.        +0.j\n",
       "   0.97847369+0.20637162j  0.        +0.j          0.        +0.j        ]\n",
       " [ 0.        +0.j          0.        +0.j          0.        +0.j\n",
       "   0.        +0.j          0.        +0.j          0.        +0.j\n",
       "   0.        +0.j          0.83502424-0.55021315j  0.        +0.j        ]\n",
       " [ 0.        +0.j          0.        +0.j          0.        +0.j\n",
       "   0.        +0.j          0.        +0.j          0.        +0.j\n",
       "   0.        +0.j          0.        +0.j          0.9784278 +0.20658905j]]"
      ]
     },
     "execution_count": 12,
     "metadata": {},
     "output_type": "execute_result"
    }
   ],
   "source": [
    "#printing resultant Unitary from the final iteration of GRAPE\n",
    "result.U_f.tidyup(1e-2)"
   ]
  },
  {
   "cell_type": "code",
   "execution_count": 13,
   "id": "dfc11651",
   "metadata": {},
   "outputs": [
    {
     "name": "stdout",
     "output_type": "stream",
     "text": [
      "Quantum object: dims = [[9], [1]], shape = (9, 1), type = ket\n",
      "Qobj data =\n",
      "[[0.        +0.j        ]\n",
      " [0.        +0.j        ]\n",
      " [0.        +0.j        ]\n",
      " [0.28726571-0.95785093j]\n",
      " [0.        +0.j        ]\n",
      " [0.        +0.j        ]\n",
      " [0.        +0.j        ]\n",
      " [0.        +0.j        ]\n",
      " [0.        +0.j        ]]\n"
     ]
    }
   ],
   "source": [
    "#printing the final state from the resultant Unitary\n",
    "realfinalstate=result.U_f*startingstate\n",
    "print (realfinalstate)"
   ]
  },
  {
   "cell_type": "code",
   "execution_count": 14,
   "id": "c21a234f",
   "metadata": {},
   "outputs": [
    {
     "name": "stdout",
     "output_type": "stream",
     "text": [
      "Quantum object: dims = [[9], [9]], shape = (9, 9), type = oper, isherm = True\n",
      "Qobj data =\n",
      "[[0. 0. 0. 0. 0. 0. 0. 0. 0.]\n",
      " [0. 0. 0. 0. 0. 0. 0. 0. 0.]\n",
      " [0. 0. 0. 0. 0. 0. 0. 0. 0.]\n",
      " [0. 0. 0. 1. 0. 0. 0. 0. 0.]\n",
      " [0. 0. 0. 0. 0. 0. 0. 0. 0.]\n",
      " [0. 0. 0. 0. 0. 0. 0. 0. 0.]\n",
      " [0. 0. 0. 0. 0. 0. 0. 0. 0.]\n",
      " [0. 0. 0. 0. 0. 0. 0. 0. 0.]\n",
      " [0. 0. 0. 0. 0. 0. 0. 0. 0.]]\n",
      "Quantum object: dims = [[9], [9]], shape = (9, 9), type = oper, isherm = True\n",
      "Qobj data =\n",
      "[[0. 0. 0. 0. 0. 0. 0. 0. 0.]\n",
      " [0. 0. 0. 0. 0. 0. 0. 0. 0.]\n",
      " [0. 0. 0. 0. 0. 0. 0. 0. 0.]\n",
      " [0. 0. 0. 1. 0. 0. 0. 0. 0.]\n",
      " [0. 0. 0. 0. 0. 0. 0. 0. 0.]\n",
      " [0. 0. 0. 0. 0. 0. 0. 0. 0.]\n",
      " [0. 0. 0. 0. 0. 0. 0. 0. 0.]\n",
      " [0. 0. 0. 0. 0. 0. 0. 0. 0.]\n",
      " [0. 0. 0. 0. 0. 0. 0. 0. 0.]]\n"
     ]
    },
    {
     "data": {
      "text/plain": [
       "0.9999999994755124"
      ]
     },
     "execution_count": 14,
     "metadata": {},
     "output_type": "execute_result"
    }
   ],
   "source": [
    "#finding density matrices and fidelity\n",
    "idealdensitymatrix=(idealfinalstate * idealfinalstate.dag())#ideal density matrix\n",
    "densitymatrix=(realfinalstate * realfinalstate.dag())# real density matrix\n",
    "print (idealdensitymatrix)\n",
    "print (densitymatrix)\n",
    "fidelity(idealdensitymatrix,densitymatrix)"
   ]
  }
 ],
 "metadata": {
  "kernelspec": {
   "display_name": "Python 3 (ipykernel)",
   "language": "python",
   "name": "python3"
  },
  "language_info": {
   "codemirror_mode": {
    "name": "ipython",
    "version": 3
   },
   "file_extension": ".py",
   "mimetype": "text/x-python",
   "name": "python",
   "nbconvert_exporter": "python",
   "pygments_lexer": "ipython3",
   "version": "3.9.13"
  }
 },
 "nbformat": 4,
 "nbformat_minor": 5
}
