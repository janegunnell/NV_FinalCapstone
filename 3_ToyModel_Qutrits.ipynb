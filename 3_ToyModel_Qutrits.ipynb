{
 "cells": [
  {
   "cell_type": "code",
   "execution_count": 51,
   "id": "90356ed2",
   "metadata": {},
   "outputs": [],
   "source": [
    "#required imports\n",
    "\n",
    "import matplotlib.pyplot as plt\n",
    "import time\n",
    "import numpy as np\n",
    "from numpy import pi\n",
    "\n",
    "from qutip import *\n",
    "from qutip.control import *\n",
    "from qutip.qip.operations import rx\n",
    "from qutip.qip.operations import ry\n",
    "from qutip.qip.operations import rz\n",
    "\n",
    "from qutip.control.grape import plot_grape_control_fields, _overlap\n",
    "from qutip.control.cy_grape import cy_overlap\n",
    "from qutip.control.grape import cy_grape_unitary, grape_unitary_adaptive\n",
    "\n",
    "from scipy.interpolate import interp1d\n",
    "from qutip.ui.progressbar import TextProgressBar\n",
    "from dataclasses import dataclass\n",
    "from typing import List, Tuple, Sequence\n",
    "\n",
    "import matplotlib.pyplot as plt\n",
    "import numpy as np\n",
    "import plotly.graph_objs as go\n",
    "import plotly.express as px\n",
    "\n",
    "from scipy.constants import physical_constants, h\n",
    "\n",
    "from qutip import jmat, tensor, identity, Qobj\n",
    "\n",
    "from scipy.interpolate import interp1d\n",
    "from qutip.ui.progressbar import TextProgressBar\n",
    "from qiskit.visualization import plot_state_city\n",
    "from qiskit.visualization import plot_bloch_multivector\n",
    "\n",
    "import warnings\n",
    "warnings.filterwarnings(\"ignore\")"
   ]
  },
  {
   "cell_type": "markdown",
   "id": "02f55882",
   "metadata": {},
   "source": [
    "# Finding Pulse Sequence"
   ]
  },
  {
   "cell_type": "markdown",
   "id": "62678ac8",
   "metadata": {},
   "source": [
    "### Setting beginning and ending states\n",
    "### setting desired U value"
   ]
  },
  {
   "cell_type": "code",
   "execution_count": 55,
   "id": "c0d049a4",
   "metadata": {},
   "outputs": [
    {
     "data": {
      "text/latex": [
       "Quantum object: dims = [[9], [1]], shape = (9, 1), type = ket $ \\\\ \\left(\\begin{matrix}1.0\\\\0.0\\\\0.0\\\\0.0\\\\0.0\\\\0.0\\\\0.0\\\\0.0\\\\0.0\\\\\\end{matrix}\\right)$"
      ],
      "text/plain": [
       "Quantum object: dims = [[9], [1]], shape = (9, 1), type = ket\n",
       "Qobj data =\n",
       "[[1.]\n",
       " [0.]\n",
       " [0.]\n",
       " [0.]\n",
       " [0.]\n",
       " [0.]\n",
       " [0.]\n",
       " [0.]\n",
       " [0.]]"
      ]
     },
     "execution_count": 55,
     "metadata": {},
     "output_type": "execute_result"
    }
   ],
   "source": [
    "# defining starting state, both qutrits in (1 0 0) state to begin with\n",
    "\n",
    "qubit1state=basis(3, 0)\n",
    "qubit2state=basis(3, 0)\n",
    "startingstate=tensor(qubit1state,qubit1state) #initial state\n",
    " #when you tensor things together in QuTIP in kepps the dimensions of the original object\n",
    "    #so changing the dims just tells it we can actually use this as a 9x1 and not 2 3x3s.\n",
    "startingstate.dims=[[9],[1]]\n",
    "startingstate\n",
    "\n"
   ]
  },
  {
   "cell_type": "code",
   "execution_count": 56,
   "id": "5f3a3a51",
   "metadata": {},
   "outputs": [
    {
     "data": {
      "text/latex": [
       "Quantum object: dims = [[9], [9]], shape = (9, 9), type = oper, isherm = False $ \\\\ \\left(\\begin{matrix}0.500 & 0.0 & 0.0 & -0.707j & 0.0 & 0.0 & -0.500 & 0.0 & 0.0\\\\0.0 & 0.500 & 0.0 & 0.0 & -0.707j & 0.0 & 0.0 & -0.500 & 0.0\\\\0.0 & 0.0 & 0.500 & 0.0 & 0.0 & -0.707j & 0.0 & 0.0 & -0.500\\\\-0.707j & 0.0 & 0.0 & 0.0 & 0.0 & 0.0 & -0.707j & 0.0 & 0.0\\\\0.0 & -0.707j & 0.0 & 0.0 & 0.0 & 0.0 & 0.0 & -0.707j & 0.0\\\\0.0 & 0.0 & -0.707j & 0.0 & 0.0 & 0.0 & 0.0 & 0.0 & -0.707j\\\\-0.500 & 0.0 & 0.0 & -0.707j & 0.0 & 0.0 & 0.500 & 0.0 & 0.0\\\\0.0 & -0.500 & 0.0 & 0.0 & -0.707j & 0.0 & 0.0 & 0.500 & 0.0\\\\0.0 & 0.0 & -0.500 & 0.0 & 0.0 & -0.707j & 0.0 & 0.0 & 0.500\\\\\\end{matrix}\\right)$"
      ],
      "text/plain": [
       "Quantum object: dims = [[9], [9]], shape = (9, 9), type = oper, isherm = False\n",
       "Qobj data =\n",
       "[[ 0.5+0.j          0. +0.j          0. +0.j          0. -0.70710678j\n",
       "   0. +0.j          0. +0.j         -0.5+0.j          0. +0.j\n",
       "   0. +0.j        ]\n",
       " [ 0. +0.j          0.5+0.j          0. +0.j          0. +0.j\n",
       "   0. -0.70710678j  0. +0.j          0. +0.j         -0.5+0.j\n",
       "   0. +0.j        ]\n",
       " [ 0. +0.j          0. +0.j          0.5+0.j          0. +0.j\n",
       "   0. +0.j          0. -0.70710678j  0. +0.j          0. +0.j\n",
       "  -0.5+0.j        ]\n",
       " [ 0. -0.70710678j  0. +0.j          0. +0.j          0. +0.j\n",
       "   0. +0.j          0. +0.j          0. -0.70710678j  0. +0.j\n",
       "   0. +0.j        ]\n",
       " [ 0. +0.j          0. -0.70710678j  0. +0.j          0. +0.j\n",
       "   0. +0.j          0. +0.j          0. +0.j          0. -0.70710678j\n",
       "   0. +0.j        ]\n",
       " [ 0. +0.j          0. +0.j          0. -0.70710678j  0. +0.j\n",
       "   0. +0.j          0. +0.j          0. +0.j          0. +0.j\n",
       "   0. -0.70710678j]\n",
       " [-0.5+0.j          0. +0.j          0. +0.j          0. -0.70710678j\n",
       "   0. +0.j          0. +0.j          0.5+0.j          0. +0.j\n",
       "   0. +0.j        ]\n",
       " [ 0. +0.j         -0.5+0.j          0. +0.j          0. +0.j\n",
       "   0. -0.70710678j  0. +0.j          0. +0.j          0.5+0.j\n",
       "   0. +0.j        ]\n",
       " [ 0. +0.j          0. +0.j         -0.5+0.j          0. +0.j\n",
       "   0. +0.j          0. -0.70710678j  0. +0.j          0. +0.j\n",
       "   0.5+0.j        ]]"
      ]
     },
     "execution_count": 56,
     "metadata": {},
     "output_type": "execute_result"
    }
   ],
   "source": [
    "#definiting out unitary transofrmation input as a RX by pi for the first qubit\n",
    "#to make the dimensions match we have to tensor it with the idetity \n",
    "\n",
    "U=tensor(rotation(jmat(1,'x'),np.pi),identity(3))\n",
    "U.dims=[[9],[9]]# change dims again\n",
    "U\n",
    "\n",
    "#rotation in x about "
   ]
  },
  {
   "cell_type": "markdown",
   "id": "45166508",
   "metadata": {},
   "source": [
    "## Defining 3x3 pauli spin matrices \n",
    "## Definiting number of iterations\n",
    "## Defining H_ops"
   ]
  },
  {
   "cell_type": "code",
   "execution_count": 30,
   "id": "2ddca87e",
   "metadata": {},
   "outputs": [],
   "source": [
    "R = 150 #GRAPE itterations\n",
    "\n",
    "T = 1\n",
    "times = np.linspace(0, T, 100)\n",
    "\n",
    "\n",
    "#Defining some terms so the hamiltonian is more clear\n",
    "#Elec qubit is first qubit, spin=1\n",
    "#Nuc terms are second qubit, spin=1\n",
    "\n",
    "\n",
    "\n",
    "\n",
    "nuclear_spin = 1\n",
    "electron_spin = 1\n",
    "sigmaxE = jmat(electron_spin,'x')\n",
    "sigmayE = jmat(electron_spin,'y')\n",
    "#print (sigmayE)\n",
    "sigmazE = jmat(electron_spin,'z')\n",
    "sigmaxN = jmat(nuclear_spin,'x')\n",
    "sigmayN = jmat(nuclear_spin,'y')\n",
    "sigmazN = jmat(nuclear_spin,'z')\n",
    "sigmazEsquared = sigmazE*sigmazE\n",
    "sigmazNsquared = sigmazN*sigmazN\n",
    "identity3 = identity(3) #3x3 identity matrix\n",
    "\n",
    "#we allowed the hamiltonian to tune every field \n",
    "H_opsEx=tensor(sigmaxE, identity3)\n",
    "H_opsEy=tensor(sigmayE, identity3)\n",
    "H_opsEz=tensor(sigmazE, identity3)\n",
    "\n",
    "\n",
    "\n",
    "H_opsNx=tensor(identity3, sigmaxN)\n",
    "H_opsNy=tensor(identity3, sigmayN)\n",
    "H_opsNz=tensor(identity3, sigmazN)\n",
    "\n",
    "H_opsENx = tensor(sigmaxE, sigmaxN)\n",
    "H_opsENy = tensor(sigmayE, sigmayN)           \n",
    "H_opsENz = tensor(sigmazE, sigmazN)\n",
    "#print (H_opsENz)\n",
    "\n",
    "#changing dims bc qutip is silly\n",
    "\n",
    "H_opsEx.dims=[[9],[9]]\n",
    "H_opsEy.dims=[[9],[9]]\n",
    "H_opsEz.dims=[[9],[9]]\n",
    "\n",
    "H_opsNx.dims=[[9],[9]]\n",
    "H_opsNy.dims=[[9],[9]]\n",
    "H_opsNz.dims=[[9],[9]]\n",
    "\n",
    "H_opsENx.dims=[[9],[9]]\n",
    "H_opsENy.dims=[[9],[9]]\n",
    "H_opsENz.dims=[[9],[9]] \n",
    "\n",
    "\n",
    "#making H_ops list           \n",
    "H_ops = [H_opsEx, H_opsEy, H_opsEz, H_opsNx, H_opsNy, H_opsNz, H_opsENx, H_opsENy, H_opsENz]            \n",
    "               \n",
    "               \n",
    "#making labels for pulse sequence graphs\n",
    "H_labels = [r'$uE_{x}$',\n",
    "            r'$uE_{y}$',\n",
    "            r'$uE_{z}$',\n",
    "            r'$uN_{x}$',\n",
    "            r'$uN_{y}$',\n",
    "            r'$uN_{z}$',\n",
    "            r'$uEN_{x}$',\n",
    "            r'$uEN_{y}$',\n",
    "            r'$uEN_{z}$']\n"
   ]
  },
  {
   "cell_type": "markdown",
   "id": "587c4893",
   "metadata": {},
   "source": [
    "# Defining hamiltonian and constants "
   ]
  },
  {
   "cell_type": "code",
   "execution_count": 31,
   "id": "43f769bc",
   "metadata": {},
   "outputs": [
    {
     "data": {
      "text/latex": [
       "Quantum object: dims = [[9], [9]], shape = (9, 9), type = oper, isherm = True $ \\\\ \\left(\\begin{matrix}0.727 & 0.0 & 0.0 & 0.0 & 0.0 & 0.0 & 0.0 & 0.0 & 0.0\\\\0.0 & 0.314 & 0.0 & 0.0 & 0.0 & 0.0 & 0.0 & 0.0 & 0.0\\\\0.0 & 0.0 & -0.099 & 0.0 & 0.0 & 0.0 & 0.0 & 0.0 & 0.0\\\\0.0 & 0.0 & 0.0 & 0.314 & 0.0 & 0.0 & 0.0 & 0.0 & 0.0\\\\0.0 & 0.0 & 0.0 & 0.0 & 0.0 & 0.0 & 0.0 & 0.0 & 0.0\\\\0.0 & 0.0 & 0.0 & 0.0 & 0.0 & -0.314 & 0.0 & 0.0 & 0.0\\\\0.0 & 0.0 & 0.0 & 0.0 & 0.0 & 0.0 & -0.099 & 0.0 & 0.0\\\\0.0 & 0.0 & 0.0 & 0.0 & 0.0 & 0.0 & 0.0 & -0.314 & 0.0\\\\0.0 & 0.0 & 0.0 & 0.0 & 0.0 & 0.0 & 0.0 & 0.0 & -0.530\\\\\\end{matrix}\\right)$"
      ],
      "text/plain": [
       "Quantum object: dims = [[9], [9]], shape = (9, 9), type = oper, isherm = True\n",
       "Qobj data =\n",
       "[[ 0.72701457  0.          0.          0.          0.          0.\n",
       "   0.          0.          0.        ]\n",
       " [ 0.          0.31415927  0.          0.          0.          0.\n",
       "   0.          0.          0.        ]\n",
       " [ 0.          0.         -0.09869604  0.          0.          0.\n",
       "   0.          0.          0.        ]\n",
       " [ 0.          0.          0.          0.31415927  0.          0.\n",
       "   0.          0.          0.        ]\n",
       " [ 0.          0.          0.          0.          0.          0.\n",
       "   0.          0.          0.        ]\n",
       " [ 0.          0.          0.          0.          0.         -0.31415927\n",
       "   0.          0.          0.        ]\n",
       " [ 0.          0.          0.          0.          0.          0.\n",
       "  -0.09869604  0.          0.        ]\n",
       " [ 0.          0.          0.          0.          0.          0.\n",
       "   0.         -0.31415927  0.        ]\n",
       " [ 0.          0.          0.          0.          0.          0.\n",
       "   0.          0.         -0.52962249]]"
      ]
     },
     "execution_count": 31,
     "metadata": {},
     "output_type": "execute_result"
    }
   ],
   "source": [
    "\n",
    "\n",
    "\n",
    "#witing out hamiltonian terms\n",
    "\n",
    "\n",
    "H1 = tensor(0.1*pi*jmat(1,'z'), identity(3))\n",
    "\n",
    "H2= tensor(identity(3), 0.1*pi*jmat(1,'z'))\n",
    "\n",
    "H3= tensor(0.1*pi*jmat(1,'z'), 0.1*pi*jmat(1,'z'))\n",
    "H0= H1+H2+H3\n",
    "\n",
    "H0.dims=[[9],[9]]\n",
    "H0 \n"
   ]
  },
  {
   "cell_type": "markdown",
   "id": "05144d08",
   "metadata": {},
   "source": [
    "# Plot pulses"
   ]
  },
  {
   "cell_type": "code",
   "execution_count": 32,
   "id": "c72769a0",
   "metadata": {},
   "outputs": [],
   "source": [
    "##creating initial control pulse values as starting guess for GRAPE\n",
    "\n",
    "u0 = np.array([np.random.rand(len(times)) * 2 * pi * 0.005 for _ in range(len(H_ops))])\n",
    "\n",
    "u0 = [np.convolve(np.ones(10) / 10, u0[idx, :], mode='same') for idx in range(len(H_ops))]\n"
   ]
  },
  {
   "cell_type": "code",
   "execution_count": 33,
   "id": "8342fb7d",
   "metadata": {},
   "outputs": [
    {
     "name": "stdout",
     "output_type": "stream",
     "text": [
      "10.0%. Run time:  10.22s. Est. time left: 00:00:01:31\n",
      "20.0%. Run time:  22.03s. Est. time left: 00:00:01:28\n",
      "30.0%. Run time:  34.70s. Est. time left: 00:00:01:20\n",
      "40.0%. Run time:  48.33s. Est. time left: 00:00:01:12\n",
      "50.0%. Run time:  60.24s. Est. time left: 00:00:01:00\n",
      "60.0%. Run time:  70.75s. Est. time left: 00:00:00:47\n",
      "70.0%. Run time:  82.57s. Est. time left: 00:00:00:35\n",
      "80.0%. Run time:  93.57s. Est. time left: 00:00:00:23\n",
      "90.0%. Run time: 106.07s. Est. time left: 00:00:00:11\n",
      "Total run time: 117.23s\n"
     ]
    }
   ],
   "source": [
    "#doing GRAPE!\n",
    "\n",
    "result = cy_grape_unitary(U, H0, H_ops, R, times, u_start=u0 , eps=2 * pi / T, phase_sensitive=False,\n",
    "                          progress_bar=TextProgressBar())"
   ]
  },
  {
   "cell_type": "code",
   "execution_count": 42,
   "id": "97f31e2a",
   "metadata": {},
   "outputs": [
    {
     "data": {
      "image/png": "[encoded data removed]",
      "text/plain": [
       "<Figure size 576x1296 with 9 Axes>"
      ]
     },
     "metadata": {
      "needs_background": "light"
     },
     "output_type": "display_data"
    }
   ],
   "source": [
    "#Plotting GRAPE\n",
    "\n",
    "plot_grape_control_fields(times, result.u[:, :, :] / (2 * pi), H_labels, uniform_axes=True);\n",
    "plt.savefig(\"3level.jpeg\")\n",
    "plt.show()"
   ]
  },
  {
   "cell_type": "markdown",
   "id": "6e786cb8",
   "metadata": {},
   "source": [
    "# Calcuate fidelity"
   ]
  },
  {
   "cell_type": "code",
   "execution_count": 35,
   "id": "45f4ba5b",
   "metadata": {},
   "outputs": [
    {
     "name": "stdout",
     "output_type": "stream",
     "text": [
      "Quantum object: dims = [[9], [1]], shape = (9, 1), type = ket\n",
      "Qobj data =\n",
      "[[ 0.5+0.j        ]\n",
      " [ 0. +0.j        ]\n",
      " [ 0. +0.j        ]\n",
      " [ 0. -0.70710678j]\n",
      " [ 0. +0.j        ]\n",
      " [ 0. +0.j        ]\n",
      " [-0.5+0.j        ]\n",
      " [ 0. +0.j        ]\n",
      " [ 0. +0.j        ]]\n"
     ]
    }
   ],
   "source": [
    "#printing ideal final state\n",
    "\n",
    "idealfinalstate=U*startingstate\n",
    "print (idealfinalstate)"
   ]
  },
  {
   "cell_type": "code",
   "execution_count": 43,
   "id": "d83fcdfd",
   "metadata": {},
   "outputs": [
    {
     "data": {
      "text/latex": [
       "Quantum object: dims = [[9], [9]], shape = (9, 9), type = oper, isherm = False $ \\\\ \\left(\\begin{matrix}(0.500-1.462\\times10^{-04}j) & 0.0 & 0.0 & (-1.614\\times10^{-04}-0.707j) & 0.0 & 0.0 & -0.500 & 0.0 & 0.0\\\\0.0 & 0.500 & 0.0 & 0.0 & -0.707j & 0.0 & 0.0 & -0.500 & 0.0\\\\0.0 & 0.0 & (0.500+1.421\\times10^{-04}j) & 0.0 & 0.0 & (1.582\\times10^{-04}-0.707j) & 0.0 & 0.0 & -0.500\\\\-0.707j & 0.0 & 0.0 & 1.067\\times10^{-04} & 0.0 & 0.0 & -0.707j & 0.0 & 0.0\\\\0.0 & -0.707j & 0.0 & 0.0 & 0.0 & 0.0 & 0.0 & -0.707j & 0.0\\\\0.0 & 0.0 & -0.707j & 0.0 & 0.0 & 0.0 & 0.0 & 0.0 & -0.707j\\\\-0.500 & 0.0 & 0.0 & (1.569\\times10^{-04}-0.707j) & 0.0 & 0.0 & (0.500+1.430\\times10^{-04}j) & 0.0 & 0.0\\\\0.0 & -0.500 & 0.0 & 0.0 & -0.707j & 0.0 & 0.0 & 0.500 & 0.0\\\\0.0 & 0.0 & -0.500 & 0.0 & 0.0 & (-1.536\\times10^{-04}-0.707j) & 0.0 & 0.0 & (0.500-1.389\\times10^{-04}j)\\\\\\end{matrix}\\right)$"
      ],
      "text/plain": [
       "Quantum object: dims = [[9], [9]], shape = (9, 9), type = oper, isherm = False\n",
       "Qobj data =\n",
       "[[ 5.00053302e-01-1.46195310e-04j  0.00000000e+00+0.00000000e+00j\n",
       "   0.00000000e+00+0.00000000e+00j -1.61417189e-04-7.07106831e-01j\n",
       "   0.00000000e+00+0.00000000e+00j  0.00000000e+00+0.00000000e+00j\n",
       "  -4.99946567e-01+0.00000000e+00j  0.00000000e+00+0.00000000e+00j\n",
       "   0.00000000e+00+0.00000000e+00j]\n",
       " [ 0.00000000e+00+0.00000000e+00j  5.00005699e-01+0.00000000e+00j\n",
       "   0.00000000e+00+0.00000000e+00j  0.00000000e+00+0.00000000e+00j\n",
       "   0.00000000e+00-7.07106781e-01j  0.00000000e+00+0.00000000e+00j\n",
       "   0.00000000e+00+0.00000000e+00j -4.99994300e-01+0.00000000e+00j\n",
       "   0.00000000e+00+0.00000000e+00j]\n",
       " [ 0.00000000e+00+0.00000000e+00j  0.00000000e+00+0.00000000e+00j\n",
       "   4.99958684e-01+1.42124767e-04j  0.00000000e+00+0.00000000e+00j\n",
       "   0.00000000e+00+0.00000000e+00j  1.58185517e-04-7.07106689e-01j\n",
       "   0.00000000e+00+0.00000000e+00j  0.00000000e+00+0.00000000e+00j\n",
       "  -5.00041391e-01+0.00000000e+00j]\n",
       " [ 0.00000000e+00-7.07106755e-01j  0.00000000e+00+0.00000000e+00j\n",
       "   0.00000000e+00+0.00000000e+00j  1.06720222e-04+0.00000000e+00j\n",
       "   0.00000000e+00+0.00000000e+00j  0.00000000e+00+0.00000000e+00j\n",
       "   0.00000000e+00-7.07106796e-01j  0.00000000e+00+0.00000000e+00j\n",
       "   0.00000000e+00+0.00000000e+00j]\n",
       " [ 0.00000000e+00+0.00000000e+00j  0.00000000e+00-7.07106781e-01j\n",
       "   0.00000000e+00+0.00000000e+00j  0.00000000e+00+0.00000000e+00j\n",
       "   0.00000000e+00+0.00000000e+00j  0.00000000e+00+0.00000000e+00j\n",
       "   0.00000000e+00+0.00000000e+00j  0.00000000e+00-7.07106781e-01j\n",
       "   0.00000000e+00+0.00000000e+00j]\n",
       " [ 0.00000000e+00+0.00000000e+00j  0.00000000e+00+0.00000000e+00j\n",
       "   0.00000000e+00-7.07106798e-01j  0.00000000e+00+0.00000000e+00j\n",
       "   0.00000000e+00+0.00000000e+00j  0.00000000e+00+0.00000000e+00j\n",
       "   0.00000000e+00+0.00000000e+00j  0.00000000e+00+0.00000000e+00j\n",
       "   0.00000000e+00-7.07106757e-01j]\n",
       " [-4.99946699e-01+0.00000000e+00j  0.00000000e+00+0.00000000e+00j\n",
       "   0.00000000e+00+0.00000000e+00j  1.56857797e-04-7.07106687e-01j\n",
       "   0.00000000e+00+0.00000000e+00j  0.00000000e+00+0.00000000e+00j\n",
       "   5.00053376e-01+1.42977489e-04j  0.00000000e+00+0.00000000e+00j\n",
       "   0.00000000e+00+0.00000000e+00j]\n",
       " [ 0.00000000e+00+0.00000000e+00j -4.99994300e-01+0.00000000e+00j\n",
       "   0.00000000e+00+0.00000000e+00j  0.00000000e+00+0.00000000e+00j\n",
       "   0.00000000e+00-7.07106781e-01j  0.00000000e+00+0.00000000e+00j\n",
       "   0.00000000e+00+0.00000000e+00j  5.00005699e-01+0.00000000e+00j\n",
       "   0.00000000e+00+0.00000000e+00j]\n",
       " [ 0.00000000e+00+0.00000000e+00j  0.00000000e+00+0.00000000e+00j\n",
       "  -5.00041259e-01+0.00000000e+00j  0.00000000e+00+0.00000000e+00j\n",
       "   0.00000000e+00+0.00000000e+00j -1.53626595e-04-7.07106834e-01j\n",
       "   0.00000000e+00+0.00000000e+00j  0.00000000e+00+0.00000000e+00j\n",
       "   4.99958613e-01-1.38907276e-04j]]"
      ]
     },
     "execution_count": 43,
     "metadata": {},
     "output_type": "execute_result"
    }
   ],
   "source": [
    "#printing GRAPE unitary tranfomation\n",
    "\n",
    "result.U_f.tidyup(1e-4)"
   ]
  },
  {
   "cell_type": "code",
   "execution_count": 45,
   "id": "dfc11651",
   "metadata": {},
   "outputs": [
    {
     "name": "stdout",
     "output_type": "stream",
     "text": [
      "Quantum object: dims = [[9], [1]], shape = (9, 1), type = ket\n",
      "Qobj data =\n",
      "[[ 0.5000533-1.46195310e-04j]\n",
      " [ 0.       +0.00000000e+00j]\n",
      " [ 0.       +0.00000000e+00j]\n",
      " [ 0.       -7.07106755e-01j]\n",
      " [ 0.       +0.00000000e+00j]\n",
      " [ 0.       +0.00000000e+00j]\n",
      " [-0.4999467+0.00000000e+00j]\n",
      " [ 0.       +0.00000000e+00j]\n",
      " [ 0.       +0.00000000e+00j]]\n"
     ]
    }
   ],
   "source": [
    "#printing real final state\n",
    "\n",
    "realfinalstate=result.U_f*startingstate\n",
    "print (realfinalstate)"
   ]
  },
  {
   "cell_type": "code",
   "execution_count": 48,
   "id": "c21a234f",
   "metadata": {},
   "outputs": [
    {
     "name": "stdout",
     "output_type": "stream",
     "text": [
      "Quantum object: dims = [[9], [9]], shape = (9, 9), type = oper, isherm = True\n",
      "Qobj data =\n",
      "[[ 0.25+0.j          0.  +0.j          0.  +0.j          0.  +0.35355339j\n",
      "   0.  +0.j          0.  +0.j         -0.25+0.j          0.  +0.j\n",
      "   0.  +0.j        ]\n",
      " [ 0.  +0.j          0.  +0.j          0.  +0.j          0.  +0.j\n",
      "   0.  +0.j          0.  +0.j          0.  +0.j          0.  +0.j\n",
      "   0.  +0.j        ]\n",
      " [ 0.  +0.j          0.  +0.j          0.  +0.j          0.  +0.j\n",
      "   0.  +0.j          0.  +0.j          0.  +0.j          0.  +0.j\n",
      "   0.  +0.j        ]\n",
      " [ 0.  -0.35355339j  0.  +0.j          0.  +0.j          0.5 +0.j\n",
      "   0.  +0.j          0.  +0.j          0.  +0.35355339j  0.  +0.j\n",
      "   0.  +0.j        ]\n",
      " [ 0.  +0.j          0.  +0.j          0.  +0.j          0.  +0.j\n",
      "   0.  +0.j          0.  +0.j          0.  +0.j          0.  +0.j\n",
      "   0.  +0.j        ]\n",
      " [ 0.  +0.j          0.  +0.j          0.  +0.j          0.  +0.j\n",
      "   0.  +0.j          0.  +0.j          0.  +0.j          0.  +0.j\n",
      "   0.  +0.j        ]\n",
      " [-0.25+0.j          0.  +0.j          0.  +0.j          0.  -0.35355339j\n",
      "   0.  +0.j          0.  +0.j          0.25+0.j          0.  +0.j\n",
      "   0.  +0.j        ]\n",
      " [ 0.  +0.j          0.  +0.j          0.  +0.j          0.  +0.j\n",
      "   0.  +0.j          0.  +0.j          0.  +0.j          0.  +0.j\n",
      "   0.  +0.j        ]\n",
      " [ 0.  +0.j          0.  +0.j          0.  +0.j          0.  +0.j\n",
      "   0.  +0.j          0.  +0.j          0.  +0.j          0.  +0.j\n",
      "   0.  +0.j        ]]\n",
      "Quantum object: dims = [[9], [9]], shape = (9, 9), type = oper, isherm = True\n",
      "Qobj data =\n",
      "[[ 2.50053326e-01+0.00000000e+00j  0.00000000e+00+0.00000000e+00j\n",
      "   0.00000000e+00+0.00000000e+00j  1.03375691e-04+3.53591068e-01j\n",
      "   0.00000000e+00+0.00000000e+00j  0.00000000e+00+0.00000000e+00j\n",
      "  -2.49999998e-01+7.30898627e-05j  0.00000000e+00+0.00000000e+00j\n",
      "   0.00000000e+00+0.00000000e+00j]\n",
      " [ 0.00000000e+00+0.00000000e+00j  0.00000000e+00+0.00000000e+00j\n",
      "   0.00000000e+00+0.00000000e+00j  0.00000000e+00+0.00000000e+00j\n",
      "   0.00000000e+00+0.00000000e+00j  0.00000000e+00+0.00000000e+00j\n",
      "   0.00000000e+00+0.00000000e+00j  0.00000000e+00+0.00000000e+00j\n",
      "   0.00000000e+00+0.00000000e+00j]\n",
      " [ 0.00000000e+00+0.00000000e+00j  0.00000000e+00+0.00000000e+00j\n",
      "   0.00000000e+00+0.00000000e+00j  0.00000000e+00+0.00000000e+00j\n",
      "   0.00000000e+00+0.00000000e+00j  0.00000000e+00+0.00000000e+00j\n",
      "   0.00000000e+00+0.00000000e+00j  0.00000000e+00+0.00000000e+00j\n",
      "   0.00000000e+00+0.00000000e+00j]\n",
      " [ 1.03375691e-04-3.53591068e-01j  0.00000000e+00+0.00000000e+00j\n",
      "   0.00000000e+00+0.00000000e+00j  4.99999962e-01+0.00000000e+00j\n",
      "   0.00000000e+00+0.00000000e+00j  0.00000000e+00+0.00000000e+00j\n",
      "   0.00000000e+00+3.53515688e-01j  0.00000000e+00+0.00000000e+00j\n",
      "   0.00000000e+00+0.00000000e+00j]\n",
      " [ 0.00000000e+00+0.00000000e+00j  0.00000000e+00+0.00000000e+00j\n",
      "   0.00000000e+00+0.00000000e+00j  0.00000000e+00+0.00000000e+00j\n",
      "   0.00000000e+00+0.00000000e+00j  0.00000000e+00+0.00000000e+00j\n",
      "   0.00000000e+00+0.00000000e+00j  0.00000000e+00+0.00000000e+00j\n",
      "   0.00000000e+00+0.00000000e+00j]\n",
      " [ 0.00000000e+00+0.00000000e+00j  0.00000000e+00+0.00000000e+00j\n",
      "   0.00000000e+00+0.00000000e+00j  0.00000000e+00+0.00000000e+00j\n",
      "   0.00000000e+00+0.00000000e+00j  0.00000000e+00+0.00000000e+00j\n",
      "   0.00000000e+00+0.00000000e+00j  0.00000000e+00+0.00000000e+00j\n",
      "   0.00000000e+00+0.00000000e+00j]\n",
      " [-2.49999998e-01-7.30898627e-05j  0.00000000e+00+0.00000000e+00j\n",
      "   0.00000000e+00+0.00000000e+00j  0.00000000e+00-3.53515688e-01j\n",
      "   0.00000000e+00+0.00000000e+00j  0.00000000e+00+0.00000000e+00j\n",
      "   2.49946702e-01+0.00000000e+00j  0.00000000e+00+0.00000000e+00j\n",
      "   0.00000000e+00+0.00000000e+00j]\n",
      " [ 0.00000000e+00+0.00000000e+00j  0.00000000e+00+0.00000000e+00j\n",
      "   0.00000000e+00+0.00000000e+00j  0.00000000e+00+0.00000000e+00j\n",
      "   0.00000000e+00+0.00000000e+00j  0.00000000e+00+0.00000000e+00j\n",
      "   0.00000000e+00+0.00000000e+00j  0.00000000e+00+0.00000000e+00j\n",
      "   0.00000000e+00+0.00000000e+00j]\n",
      " [ 0.00000000e+00+0.00000000e+00j  0.00000000e+00+0.00000000e+00j\n",
      "   0.00000000e+00+0.00000000e+00j  0.00000000e+00+0.00000000e+00j\n",
      "   0.00000000e+00+0.00000000e+00j  0.00000000e+00+0.00000000e+00j\n",
      "   0.00000000e+00+0.00000000e+00j  0.00000000e+00+0.00000000e+00j\n",
      "   0.00000000e+00+0.00000000e+00j]]\n"
     ]
    },
    {
     "data": {
      "text/plain": [
       "0.9996002791468257"
      ]
     },
     "execution_count": 48,
     "metadata": {},
     "output_type": "execute_result"
    }
   ],
   "source": [
    "#finding density matrcies to find the fidelity\n",
    "\n",
    "idealdensitymatrix=(idealfinalstate * idealfinalstate.dag())#ideal density matrix\n",
    "densitymatrix=(realfinalstate * realfinalstate.dag())# real density matrix\n",
    "print (idealdensitymatrix)\n",
    "print (densitymatrix)\n",
    "fidelity(idealdensitymatrix,densitymatrix)"
   ]
  }
 ],
 "metadata": {
  "kernelspec": {
   "display_name": "Python 3 (ipykernel)",
   "language": "python",
   "name": "python3"
  },
  "language_info": {
   "codemirror_mode": {
    "name": "ipython",
    "version": 3
   },
   "file_extension": ".py",
   "mimetype": "text/x-python",
   "name": "python",
   "nbconvert_exporter": "python",
   "pygments_lexer": "ipython3",
   "version": "3.9.12"
  }
 },
 "nbformat": 4,
 "nbformat_minor": 5
}
