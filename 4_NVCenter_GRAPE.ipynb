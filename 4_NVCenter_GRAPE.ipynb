{
 "cells": [
  {
   "cell_type": "code",
   "execution_count": 35,
   "id": "90356ed2",
   "metadata": {},
   "outputs": [],
   "source": [
    "import matplotlib.pyplot as plt\n",
    "import time\n",
    "import numpy as np\n",
    "from numpy import pi\n",
    "\n",
    "from qutip import *\n",
    "from qutip.control import *\n",
    "from qutip.qip.operations import rx\n",
    "from qutip.qip.operations import ry\n",
    "from qutip.qip.operations import rz\n",
    "\n",
    "from qutip.control.grape import plot_grape_control_fields, _overlap\n",
    "from qutip.control.cy_grape import cy_overlap\n",
    "from qutip.control.grape import cy_grape_unitary, grape_unitary_adaptive\n",
    "\n",
    "from scipy.interpolate import interp1d\n",
    "from qutip.ui.progressbar import TextProgressBar\n",
    "from dataclasses import dataclass\n",
    "from typing import List, Tuple, Sequence\n",
    "\n",
    "import matplotlib.pyplot as plt\n",
    "import numpy as np\n",
    "import plotly.graph_objs as go\n",
    "import plotly.express as px\n",
    "\n",
    "from scipy.constants import physical_constants, h\n",
    "\n",
    "from qutip import jmat, tensor, identity, Qobj\n",
    "\n",
    "from scipy.interpolate import interp1d\n",
    "from qutip.ui.progressbar import TextProgressBar\n",
    "from qiskit.visualization import plot_state_city\n",
    "from qiskit.visualization import plot_bloch_multivector\n",
    "\n",
    "import numpy as np\n",
    "import warnings\n",
    "warnings.filterwarnings(\"ignore\")"
   ]
  },
  {
   "cell_type": "markdown",
   "id": "02f55882",
   "metadata": {},
   "source": [
    "# Finding Pulse Sequence"
   ]
  },
  {
   "cell_type": "code",
   "execution_count": 36,
   "id": "c0d049a4",
   "metadata": {},
   "outputs": [
    {
     "data": {
      "text/latex": [
       "Quantum object: dims = [[9], [1]], shape = (9, 1), type = ket $ \\\\ \\left(\\begin{matrix}1.0\\\\0.0\\\\0.0\\\\0.0\\\\0.0\\\\0.0\\\\0.0\\\\0.0\\\\0.0\\\\\\end{matrix}\\right)$"
      ],
      "text/plain": [
       "Quantum object: dims = [[9], [1]], shape = (9, 1), type = ket\n",
       "Qobj data =\n",
       "[[1.]\n",
       " [0.]\n",
       " [0.]\n",
       " [0.]\n",
       " [0.]\n",
       " [0.]\n",
       " [0.]\n",
       " [0.]\n",
       " [0.]]"
      ]
     },
     "execution_count": 36,
     "metadata": {},
     "output_type": "execute_result"
    }
   ],
   "source": [
    "# defining starting state, both qutrits in (1 0 0) state to begin with\n",
    "\n",
    "qubit1state=basis(3, 0)\n",
    "qubit2state=basis(3, 0)\n",
    "startingstate=tensor(qubit1state,qubit1state) #initial state\n",
    " #when you tensor things together in QuTIP in kepps the dimensions of the original object\n",
    "#so changing the dims just tells it we can actually use this as a 9x1 and not 2 3x3s.\n",
    "startingstate.dims=[[9],[1]]\n",
    "startingstate"
   ]
  },
  {
   "cell_type": "code",
   "execution_count": 37,
   "id": "30f53103",
   "metadata": {},
   "outputs": [
    {
     "data": {
      "text/latex": [
       "Quantum object: dims = [[9], [9]], shape = (9, 9), type = oper, isherm = False $ \\\\ \\left(\\begin{matrix}0.500 & 0.0 & 0.0 & -0.707j & 0.0 & 0.0 & -0.500 & 0.0 & 0.0\\\\0.0 & 0.500 & 0.0 & 0.0 & -0.707j & 0.0 & 0.0 & -0.500 & 0.0\\\\0.0 & 0.0 & 0.500 & 0.0 & 0.0 & -0.707j & 0.0 & 0.0 & -0.500\\\\-0.707j & 0.0 & 0.0 & 0.0 & 0.0 & 0.0 & -0.707j & 0.0 & 0.0\\\\0.0 & -0.707j & 0.0 & 0.0 & 0.0 & 0.0 & 0.0 & -0.707j & 0.0\\\\0.0 & 0.0 & -0.707j & 0.0 & 0.0 & 0.0 & 0.0 & 0.0 & -0.707j\\\\-0.500 & 0.0 & 0.0 & -0.707j & 0.0 & 0.0 & 0.500 & 0.0 & 0.0\\\\0.0 & -0.500 & 0.0 & 0.0 & -0.707j & 0.0 & 0.0 & 0.500 & 0.0\\\\0.0 & 0.0 & -0.500 & 0.0 & 0.0 & -0.707j & 0.0 & 0.0 & 0.500\\\\\\end{matrix}\\right)$"
      ],
      "text/plain": [
       "Quantum object: dims = [[9], [9]], shape = (9, 9), type = oper, isherm = False\n",
       "Qobj data =\n",
       "[[ 0.5+0.j          0. +0.j          0. +0.j          0. -0.70710678j\n",
       "   0. +0.j          0. +0.j         -0.5+0.j          0. +0.j\n",
       "   0. +0.j        ]\n",
       " [ 0. +0.j          0.5+0.j          0. +0.j          0. +0.j\n",
       "   0. -0.70710678j  0. +0.j          0. +0.j         -0.5+0.j\n",
       "   0. +0.j        ]\n",
       " [ 0. +0.j          0. +0.j          0.5+0.j          0. +0.j\n",
       "   0. +0.j          0. -0.70710678j  0. +0.j          0. +0.j\n",
       "  -0.5+0.j        ]\n",
       " [ 0. -0.70710678j  0. +0.j          0. +0.j          0. +0.j\n",
       "   0. +0.j          0. +0.j          0. -0.70710678j  0. +0.j\n",
       "   0. +0.j        ]\n",
       " [ 0. +0.j          0. -0.70710678j  0. +0.j          0. +0.j\n",
       "   0. +0.j          0. +0.j          0. +0.j          0. -0.70710678j\n",
       "   0. +0.j        ]\n",
       " [ 0. +0.j          0. +0.j          0. -0.70710678j  0. +0.j\n",
       "   0. +0.j          0. +0.j          0. +0.j          0. +0.j\n",
       "   0. -0.70710678j]\n",
       " [-0.5+0.j          0. +0.j          0. +0.j          0. -0.70710678j\n",
       "   0. +0.j          0. +0.j          0.5+0.j          0. +0.j\n",
       "   0. +0.j        ]\n",
       " [ 0. +0.j         -0.5+0.j          0. +0.j          0. +0.j\n",
       "   0. -0.70710678j  0. +0.j          0. +0.j          0.5+0.j\n",
       "   0. +0.j        ]\n",
       " [ 0. +0.j          0. +0.j         -0.5+0.j          0. +0.j\n",
       "   0. +0.j          0. -0.70710678j  0. +0.j          0. +0.j\n",
       "   0.5+0.j        ]]"
      ]
     },
     "execution_count": 37,
     "metadata": {},
     "output_type": "execute_result"
    }
   ],
   "source": [
    "#definiting out unitary transofrmation input as a RX by pi for the first qubit\n",
    "#to make the dimensions match we have to tensor it with the idetity \n",
    "\n",
    "U=tensor(rotation (jmat(1,'x'),pi),identity(3))\n",
    "U.dims=[[9],[9]]# change dims again\n",
    "U\n"
   ]
  },
  {
   "cell_type": "code",
   "execution_count": 38,
   "id": "d67d543b",
   "metadata": {},
   "outputs": [],
   "source": [
    "#defining constants in hamiltonian\n",
    "\n",
    "f_fine_structure = 2.87e9\n",
    "f_nuclear_quadrupole = -5.01e6\n",
    "f_axial_magnetic_hyperfine = -2.14e6\n",
    "f_transverse_magnetic_hyperfine = -2.7e6\n",
    "g_factor_electron = 2.0028\n",
    "gyromagnetic_constant_nuclear = 1.93297e7 / (2 * np.pi)\n",
    "uB = physical_constants['Bohr magneton'][0]\n",
    "uN = physical_constants['nuclear magneton'][0]    \n",
    "bvector=[0,0,1]\n",
    "\n",
    "#Defining time steps for GRAPE\n",
    "T = 1/1800000000\n",
    "steps=100\n",
    "times = np.linspace(0, T, steps)"
   ]
  },
  {
   "cell_type": "code",
   "execution_count": 39,
   "id": "2ddca87e",
   "metadata": {},
   "outputs": [],
   "source": [
    "\n",
    "\n",
    "#Defining some terms so the hamiltonian is more clear\n",
    "#Nuc terms are second qubit, spin=1\n",
    "#Elec qubit is first qubit, spin=1\n",
    "\n",
    "nuclear_spin = 1\n",
    "electron_spin = 1\n",
    "sigmaxE = jmat(electron_spin,'x')\n",
    "sigmayE = jmat(electron_spin,'y')\n",
    "sigmazE = jmat(electron_spin,'z')\n",
    "sigmaxN = jmat(nuclear_spin,'x')\n",
    "sigmayN = jmat(nuclear_spin,'y')\n",
    "sigmazN = jmat(nuclear_spin,'z')\n",
    "sigmazEsquared = sigmazE*sigmazE\n",
    "sigmazNsquared = sigmazN*sigmazN\n",
    "identity3 = identity(3) #3x3 identity matrix\n",
    "\n",
    "\n",
    "\n",
    "#Creating operators that can be tuned in the Hamiltonian via the control fields, list is below called H_ops\n",
    "\n",
    "H_opsEx=tensor(sigmaxE, identity3)\n",
    "H_opsEy=tensor(sigmayE, identity3)\n",
    "H_opsEz=tensor(sigmazE, identity3)\n",
    "\n",
    "H_opsNx=tensor(identity3, sigmaxN)\n",
    "H_opsNy=tensor(identity3, sigmayN)\n",
    "H_opsNz=tensor(identity3, sigmazN)\n",
    "\n",
    "H_opsENx = tensor(sigmaxE, sigmaxN)\n",
    "H_opsENy = tensor(sigmayE, sigmayN)           \n",
    "H_opsENz = tensor(sigmazE, sigmazN)\n",
    "\n",
    "\n",
    "#changing dims again\n",
    "\n",
    "H_opsEx.dims=[[9],[9]]\n",
    "H_opsEy.dims=[[9],[9]]\n",
    "H_opsEz.dims=[[9],[9]]\n",
    "\n",
    "H_opsNx.dims=[[9],[9]]\n",
    "H_opsNy.dims=[[9],[9]]\n",
    "H_opsNz.dims=[[9],[9]]\n",
    "\n",
    "H_opsENx.dims=[[9],[9]]\n",
    "H_opsENy.dims=[[9],[9]]\n",
    "H_opsENz.dims=[[9],[9]] \n",
    "\n",
    "\n",
    "#making H_ops list, in our system we can only change Ex and Ey so that is the only control terms we are allowing in H_ops           \n",
    "H_ops = [H_opsEx*(1/T), H_opsEy*(1/T)]#, H_opsEz, H_opsNx, H_opsNy, H_opsNz, H_opsENx, H_opsENy, H_opsENz]            \n",
    "               \n",
    "               \n",
    "#making labels for pulse sequence graphs\n",
    "H_labels = [r'$uE_{x}$',\n",
    "            r'$uE_{y}$']\n",
    "            #r'$uE_{z}$',\n",
    "            #r'$uN_{x}$',\n",
    "            ##r'$uN_{y}$',\n",
    "            #r'$uN_{z}$',\n",
    "           # r'$uEN_{x}$',\n",
    "           # r'$uEN_{y}$',\n",
    "            #r'$uEN_{z}$']\n"
   ]
  },
  {
   "cell_type": "markdown",
   "id": "587c4893",
   "metadata": {},
   "source": [
    "# Defining hamiltonian and constants "
   ]
  },
  {
   "cell_type": "code",
   "execution_count": 40,
   "id": "43f769bc",
   "metadata": {},
   "outputs": [
    {
     "data": {
      "text/latex": [
       "Quantum object: dims = [[9], [9]], shape = (9, 9), type = oper, isherm = True $ \\\\ \\left(\\begin{matrix}2.899\\times10^{+10} & 0.0 & 0.0 & 0.0 & 0.0 & 0.0 & 0.0 & 0.0 & 0.0\\\\0.0 & 2.899\\times10^{+10} & 0.0 & -2.700\\times10^{+06} & 0.0 & 0.0 & 0.0 & 0.0 & 0.0\\\\0.0 & 0.0 & 2.899\\times10^{+10} & 0.0 & -2.700\\times10^{+06} & 0.0 & 0.0 & 0.0 & 0.0\\\\0.0 & -2.700\\times10^{+06} & 0.0 & -1.912\\times10^{+09} & 0.0 & 0.0 & 0.0 & 0.0 & 0.0\\\\0.0 & 0.0 & -2.700\\times10^{+06} & 0.0 & -1.910\\times10^{+09} & 0.0 & -2.700\\times10^{+06} & 0.0 & 0.0\\\\0.0 & 0.0 & 0.0 & 0.0 & 0.0 & -1.918\\times10^{+09} & 0.0 & -2.700\\times10^{+06} & 0.0\\\\0.0 & 0.0 & 0.0 & 0.0 & -2.700\\times10^{+06} & 0.0 & -2.707\\times10^{+10} & 0.0 & 0.0\\\\0.0 & 0.0 & 0.0 & 0.0 & 0.0 & -2.700\\times10^{+06} & 0.0 & -2.707\\times10^{+10} & 0.0\\\\0.0 & 0.0 & 0.0 & 0.0 & 0.0 & 0.0 & 0.0 & 0.0 & -2.708\\times10^{+10}\\\\\\end{matrix}\\right)$"
      ],
      "text/plain": [
       "Quantum object: dims = [[9], [9]], shape = (9, 9), type = oper, isherm = True\n",
       "Qobj data =\n",
       "[[ 2.89876124e+10  0.00000000e+00  0.00000000e+00  0.00000000e+00\n",
       "   0.00000000e+00  0.00000000e+00  0.00000000e+00  0.00000000e+00\n",
       "   0.00000000e+00]\n",
       " [ 0.00000000e+00  2.89916860e+10  0.00000000e+00 -2.70000000e+06\n",
       "   0.00000000e+00  0.00000000e+00  0.00000000e+00  0.00000000e+00\n",
       "   0.00000000e+00]\n",
       " [ 0.00000000e+00  0.00000000e+00  2.89857396e+10  0.00000000e+00\n",
       "  -2.70000000e+06  0.00000000e+00  0.00000000e+00  0.00000000e+00\n",
       "   0.00000000e+00]\n",
       " [ 0.00000000e+00 -2.70000000e+06  0.00000000e+00 -1.91192692e+09\n",
       "   0.00000000e+00  0.00000000e+00  0.00000000e+00  0.00000000e+00\n",
       "   0.00000000e+00]\n",
       " [ 0.00000000e+00  0.00000000e+00 -2.70000000e+06  0.00000000e+00\n",
       "  -1.90999333e+09  0.00000000e+00 -2.70000000e+06  0.00000000e+00\n",
       "   0.00000000e+00]\n",
       " [ 0.00000000e+00  0.00000000e+00  0.00000000e+00  0.00000000e+00\n",
       "   0.00000000e+00 -1.91807975e+09  0.00000000e+00 -2.70000000e+06\n",
       "   0.00000000e+00]\n",
       " [ 0.00000000e+00  0.00000000e+00  0.00000000e+00  0.00000000e+00\n",
       "  -2.70000000e+06  0.00000000e+00 -2.70714663e+10  0.00000000e+00\n",
       "   0.00000000e+00]\n",
       " [ 0.00000000e+00  0.00000000e+00  0.00000000e+00  0.00000000e+00\n",
       "   0.00000000e+00 -2.70000000e+06  0.00000000e+00 -2.70716727e+10\n",
       "   0.00000000e+00]\n",
       " [ 0.00000000e+00  0.00000000e+00  0.00000000e+00  0.00000000e+00\n",
       "   0.00000000e+00  0.00000000e+00  0.00000000e+00  0.00000000e+00\n",
       "  -2.70818991e+10]]"
      ]
     },
     "execution_count": 40,
     "metadata": {},
     "output_type": "execute_result"
    }
   ],
   "source": [
    "#defining hamiltonian for NV center\n",
    "\n",
    "\n",
    "#witing out hamiltonian terms\n",
    "\n",
    "H1 = f_fine_structure * tensor((sigmazEsquared-(2/3)*identity3),identity3)\n",
    "\n",
    "H2 = f_axial_magnetic_hyperfine * tensor(sigmazE,sigmazN) \n",
    "\n",
    "H3 = f_transverse_magnetic_hyperfine * (tensor(sigmaxE,sigmaxN)+tensor(sigmayE,sigmayN))\n",
    "\n",
    "H4 = f_nuclear_quadrupole * tensor(tensor(identity3), (sigmazNsquared-(2/3)*identity3))\n",
    "\n",
    "H5 = ((uB/h) * g_factor_electron) * tensor((sigmaxE*bvector[0] + sigmayE*bvector[1] + sigmazE*bvector[2]), identity3)\n",
    "\n",
    "H6 = gyromagnetic_constant_nuclear * tensor(identity3,(sigmaxN*bvector[0] + sigmayN*bvector[1] + sigmazN*bvector[2]))\n",
    "          \n",
    "    \n",
    "H0= H1+H2 +H3 +H4 +H5 +H6\n",
    "H0.dims=[[9],[9]] # changing dims again\n",
    "H0 #full drift hamiltonian \n",
    "\n"
   ]
  },
  {
   "cell_type": "markdown",
   "id": "05144d08",
   "metadata": {},
   "source": [
    "# Plot pulses"
   ]
  },
  {
   "cell_type": "code",
   "execution_count": 41,
   "id": "c72769a0",
   "metadata": {},
   "outputs": [],
   "source": [
    "##creating initial control pulse values as starting guess for GRAPE\n",
    "\n",
    "u0 = np.array([np.random.rand(len(times))*T * 2 * pi * 0.005 for _ in range(len(H_ops))]) # sclaed by T so it is in the correct time dimensions\n",
    "\n",
    "u0 = [np.convolve(np.ones(10) / 10, u0[idx, :], mode='same') for idx in range(len(H_ops))]\n"
   ]
  },
  {
   "cell_type": "code",
   "execution_count": 42,
   "id": "8342fb7d",
   "metadata": {},
   "outputs": [
    {
     "name": "stdout",
     "output_type": "stream",
     "text": [
      "10.0%. Run time:  12.65s. Est. time left: 00:00:01:53\n",
      "20.0%. Run time:  25.01s. Est. time left: 00:00:01:40\n",
      "30.0%. Run time:  37.48s. Est. time left: 00:00:01:27\n",
      "40.0%. Run time:  49.80s. Est. time left: 00:00:01:14\n",
      "50.0%. Run time:  62.12s. Est. time left: 00:00:01:02\n",
      "60.0%. Run time:  74.95s. Est. time left: 00:00:00:49\n",
      "70.0%. Run time:  87.51s. Est. time left: 00:00:00:37\n",
      "80.0%. Run time: 100.22s. Est. time left: 00:00:00:25\n",
      "90.0%. Run time: 112.89s. Est. time left: 00:00:00:12\n",
      "Total run time: 125.39s\n"
     ]
    }
   ],
   "source": [
    "#doing GRAPE!\n",
    "R=400 #number of itterations\n",
    "result = cy_grape_unitary(U, H0, H_ops, R, times, u_start=u0, eps=2 * pi / T, phase_sensitive=False,\n",
    "                          progress_bar=TextProgressBar())\n",
    "\n"
   ]
  },
  {
   "cell_type": "code",
   "execution_count": 43,
   "id": "97f31e2a",
   "metadata": {},
   "outputs": [
    {
     "data": {
      "image/png": "[encoded data removed]",
      "text/plain": [
       "<Figure size 576x288 with 2 Axes>"
      ]
     },
     "metadata": {
      "needs_background": "light"
     },
     "output_type": "display_data"
    }
   ],
   "source": [
    "#plotting pulses\n",
    "\n",
    "plot_grape_control_fields(times, result.u[:, :, :] / (2 * pi), H_labels, uniform_axes=True);\n",
    "plt.show()"
   ]
  },
  {
   "cell_type": "markdown",
   "id": "6e786cb8",
   "metadata": {},
   "source": [
    "# Calcuate fidelity"
   ]
  },
  {
   "cell_type": "code",
   "execution_count": 44,
   "id": "45f4ba5b",
   "metadata": {},
   "outputs": [
    {
     "name": "stdout",
     "output_type": "stream",
     "text": [
      "Quantum object: dims = [[9], [1]], shape = (9, 1), type = ket\n",
      "Qobj data =\n",
      "[[ 0.5+0.j        ]\n",
      " [ 0. +0.j        ]\n",
      " [ 0. +0.j        ]\n",
      " [ 0. -0.70710678j]\n",
      " [ 0. +0.j        ]\n",
      " [ 0. +0.j        ]\n",
      " [-0.5+0.j        ]\n",
      " [ 0. +0.j        ]\n",
      " [ 0. +0.j        ]]\n"
     ]
    }
   ],
   "source": [
    "#printing ideal final state\n",
    "idealfinalstate=U*startingstate\n",
    "print (idealfinalstate)"
   ]
  },
  {
   "cell_type": "code",
   "execution_count": 45,
   "id": "d83fcdfd",
   "metadata": {},
   "outputs": [
    {
     "data": {
      "text/latex": [
       "Quantum object: dims = [[9], [9]], shape = (9, 9), type = oper, isherm = False $ \\\\ \\left(\\begin{matrix}(-0.305-0.465j) & 0.0 & 0.0 & (0.418-0.582j) & 0.0 & 0.0 & (0.409+0.103j) & 0.0 & 0.0\\\\0.0 & (-0.305-0.465j) & 0.0 & 0.0 & (0.417-0.582j) & 0.0 & 0.0 & (0.409+0.102j) & 0.0\\\\0.0 & 0.0 & (-0.303-0.466j) & 0.0 & 0.0 & (0.420-0.580j) & 0.0 & 0.0 & (0.409+0.104j)\\\\(-0.251+0.684j) & 0.0 & 0.0 & (0.176-0.035j) & 0.0 & 0.0 & (0.202+0.630j) & 0.0 & 0.0\\\\0.0 & (-0.250+0.684j) & 0.0 & 0.0 & (0.176-0.035j) & 0.0 & 0.0 & (0.203+0.629j) & 0.0\\\\0.0 & 0.0 & (-0.253+0.683j) & 0.0 & 0.0 & (0.176-0.034j) & 0.0 & 0.0 & (0.200+0.630j)\\\\(0.375-0.142j) & 0.0 & 0.0 & (-0.405-0.539j) & 0.0 & 0.0 & (-0.361+0.504j) & 0.0 & 0.0\\\\0.0 & (0.375-0.143j) & 0.0 & 0.0 & (-0.406-0.539j) & 0.0 & 0.0 & (-0.361+0.504j) & 0.0\\\\0.0 & 0.0 & (0.375-0.141j) & 0.0 & 0.0 & (-0.403-0.540j) & 0.0 & 0.0 & (-0.363+0.503j)\\\\\\end{matrix}\\right)$"
      ],
      "text/plain": [
       "Quantum object: dims = [[9], [9]], shape = (9, 9), type = oper, isherm = False\n",
       "Qobj data =\n",
       "[[-0.30461266-0.46492965j  0.        +0.j          0.        +0.j\n",
       "   0.41790846-0.58168608j  0.        +0.j          0.        +0.j\n",
       "   0.40924433+0.10278336j  0.        +0.j          0.        +0.j        ]\n",
       " [ 0.        +0.j         -0.30511192-0.46460216j  0.        +0.j\n",
       "   0.        +0.j          0.41728336-0.58213467j  0.        +0.j\n",
       "   0.        +0.j          0.4093545 +0.10234369j  0.        +0.j        ]\n",
       " [ 0.        +0.j          0.        +0.j         -0.30302165-0.46596817j\n",
       "   0.        +0.j          0.        +0.j          0.41989436-0.58025419j\n",
       "   0.        +0.j          0.        +0.j          0.4088906 +0.10418165j]\n",
       " [-0.25101519+0.68360267j  0.        +0.j          0.        +0.j\n",
       "   0.17628012-0.03459038j  0.        +0.j          0.        +0.j\n",
       "   0.20247408+0.62961243j  0.        +0.j          0.        +0.j        ]\n",
       " [ 0.        +0.j         -0.2502807 +0.68387191j  0.        +0.j\n",
       "   0.        +0.j          0.17624286-0.03477972j  0.        +0.j\n",
       "   0.        +0.j          0.2031503 +0.62939456j  0.        +0.j        ]\n",
       " [ 0.        +0.j          0.        +0.j         -0.25335042+0.68274065j\n",
       "   0.        +0.j          0.        +0.j          0.17639733-0.03398761j\n",
       "   0.        +0.j          0.        +0.j          0.20032074+0.63030085j]\n",
       " [ 0.37482304-0.14226024j  0.        +0.j          0.        +0.j\n",
       "  -0.40530324-0.53893592j  0.        +0.j          0.        +0.j\n",
       "  -0.36133974+0.50396494j  0.        +0.j          0.        +0.j        ]\n",
       " [ 0.        +0.j          0.37467   -0.14266281j  0.        +0.j\n",
       "   0.        +0.j         -0.40588193-0.53850021j  0.        +0.j\n",
       "   0.        +0.j         -0.36079815+0.50435281j  0.        +0.j        ]\n",
       " [ 0.        +0.j          0.        +0.j          0.37530713-0.14097818j\n",
       "   0.        +0.j          0.        +0.j         -0.40345866-0.54031818j\n",
       "   0.        +0.j          0.        +0.j         -0.36306028+0.50272686j]]"
      ]
     },
     "execution_count": 45,
     "metadata": {},
     "output_type": "execute_result"
    }
   ],
   "source": [
    "#printing Unitary tranformation according to GRAPE\n",
    "result.U_f.tidyup(1e-2)"
   ]
  },
  {
   "cell_type": "code",
   "execution_count": 46,
   "id": "dfc11651",
   "metadata": {},
   "outputs": [
    {
     "name": "stdout",
     "output_type": "stream",
     "text": [
      "Quantum object: dims = [[9], [1]], shape = (9, 1), type = ket\n",
      "Qobj data =\n",
      "[[-0.30461266-0.46492965j]\n",
      " [ 0.        +0.j        ]\n",
      " [ 0.        +0.j        ]\n",
      " [-0.25101519+0.68360267j]\n",
      " [ 0.        +0.j        ]\n",
      " [ 0.        +0.j        ]\n",
      " [ 0.37482304-0.14226024j]\n",
      " [ 0.        +0.j        ]\n",
      " [ 0.        +0.j        ]]\n"
     ]
    }
   ],
   "source": [
    "#printing real state from final grape\n",
    "\n",
    "realfinalstate=result.U_f*startingstate\n",
    "print (realfinalstate)"
   ]
  },
  {
   "cell_type": "code",
   "execution_count": 47,
   "id": "c21a234f",
   "metadata": {},
   "outputs": [
    {
     "name": "stdout",
     "output_type": "stream",
     "text": [
      "Quantum object: dims = [[9], [9]], shape = (9, 9), type = oper, isherm = True\n",
      "Qobj data =\n",
      "[[ 0.25+0.j          0.  +0.j          0.  +0.j          0.  +0.35355339j\n",
      "   0.  +0.j          0.  +0.j         -0.25+0.j          0.  +0.j\n",
      "   0.  +0.j        ]\n",
      " [ 0.  +0.j          0.  +0.j          0.  +0.j          0.  +0.j\n",
      "   0.  +0.j          0.  +0.j          0.  +0.j          0.  +0.j\n",
      "   0.  +0.j        ]\n",
      " [ 0.  +0.j          0.  +0.j          0.  +0.j          0.  +0.j\n",
      "   0.  +0.j          0.  +0.j          0.  +0.j          0.  +0.j\n",
      "   0.  +0.j        ]\n",
      " [ 0.  -0.35355339j  0.  +0.j          0.  +0.j          0.5 +0.j\n",
      "   0.  +0.j          0.  +0.j          0.  +0.35355339j  0.  +0.j\n",
      "   0.  +0.j        ]\n",
      " [ 0.  +0.j          0.  +0.j          0.  +0.j          0.  +0.j\n",
      "   0.  +0.j          0.  +0.j          0.  +0.j          0.  +0.j\n",
      "   0.  +0.j        ]\n",
      " [ 0.  +0.j          0.  +0.j          0.  +0.j          0.  +0.j\n",
      "   0.  +0.j          0.  +0.j          0.  +0.j          0.  +0.j\n",
      "   0.  +0.j        ]\n",
      " [-0.25+0.j          0.  +0.j          0.  +0.j          0.  -0.35355339j\n",
      "   0.  +0.j          0.  +0.j          0.25+0.j          0.  +0.j\n",
      "   0.  +0.j        ]\n",
      " [ 0.  +0.j          0.  +0.j          0.  +0.j          0.  +0.j\n",
      "   0.  +0.j          0.  +0.j          0.  +0.j          0.  +0.j\n",
      "   0.  +0.j        ]\n",
      " [ 0.  +0.j          0.  +0.j          0.  +0.j          0.  +0.j\n",
      "   0.  +0.j          0.  +0.j          0.  +0.j          0.  +0.j\n",
      "   0.  +0.j        ]]\n",
      "Quantum object: dims = [[9], [9]], shape = (9, 9), type = oper, isherm = True\n",
      "Qobj data =\n",
      "[[ 0.30894845+0.j          0.        +0.j          0.        +0.j\n",
      "  -0.24136475+0.32493843j  0.        +0.j          0.        +0.j\n",
      "  -0.04803484-0.21760062j  0.        +0.j          0.        +0.j        ]\n",
      " [ 0.        +0.j          0.        +0.j          0.        +0.j\n",
      "   0.        +0.j          0.        +0.j          0.        +0.j\n",
      "   0.        +0.j          0.        +0.j          0.        +0.j        ]\n",
      " [ 0.        +0.j          0.        +0.j          0.        +0.j\n",
      "   0.        +0.j          0.        +0.j          0.        +0.j\n",
      "   0.        +0.j          0.        +0.j          0.        +0.j        ]\n",
      " [-0.24136475-0.32493843j  0.        +0.j          0.        +0.j\n",
      "   0.53032123+0.j          0.        +0.j          0.        +0.j\n",
      "  -0.19133576+0.22052055j  0.        +0.j          0.        +0.j        ]\n",
      " [ 0.        +0.j          0.        +0.j          0.        +0.j\n",
      "   0.        +0.j          0.        +0.j          0.        +0.j\n",
      "   0.        +0.j          0.        +0.j          0.        +0.j        ]\n",
      " [ 0.        +0.j          0.        +0.j          0.        +0.j\n",
      "   0.        +0.j          0.        +0.j          0.        +0.j\n",
      "   0.        +0.j          0.        +0.j          0.        +0.j        ]\n",
      " [-0.04803484+0.21760062j  0.        +0.j          0.        +0.j\n",
      "  -0.19133576-0.22052055j  0.        +0.j          0.        +0.j\n",
      "   0.16073029+0.j          0.        +0.j          0.        +0.j        ]\n",
      " [ 0.        +0.j          0.        +0.j          0.        +0.j\n",
      "   0.        +0.j          0.        +0.j          0.        +0.j\n",
      "   0.        +0.j          0.        +0.j          0.        +0.j        ]\n",
      " [ 0.        +0.j          0.        +0.j          0.        +0.j\n",
      "   0.        +0.j          0.        +0.j          0.        +0.j\n",
      "   0.        +0.j          0.        +0.j          0.        +0.j        ]]\n"
     ]
    },
    {
     "data": {
      "text/plain": [
       "0.8901098049371154"
      ]
     },
     "execution_count": 47,
     "metadata": {},
     "output_type": "execute_result"
    }
   ],
   "source": [
    "#finding density matrices and fidelity\n",
    "\n",
    "idealdensitymatrix=(idealfinalstate * idealfinalstate.dag())#ideal density matrix\n",
    "densitymatrix=(realfinalstate * realfinalstate.dag())# real density matrix\n",
    "print (idealdensitymatrix)\n",
    "print (densitymatrix)\n",
    "fidelity(idealdensitymatrix,densitymatrix)"
   ]
  }
 ],
 "metadata": {
  "kernelspec": {
   "display_name": "Python 3 (ipykernel)",
   "language": "python",
   "name": "python3"
  },
  "language_info": {
   "codemirror_mode": {
    "name": "ipython",
    "version": 3
   },
   "file_extension": ".py",
   "mimetype": "text/x-python",
   "name": "python",
   "nbconvert_exporter": "python",
   "pygments_lexer": "ipython3",
   "version": "3.9.12"
  }
 },
 "nbformat": 4,
 "nbformat_minor": 5
}
